{
 "cells": [
  {
   "cell_type": "markdown",
   "metadata": {},
   "source": [
    "# ECS529U Algorithms and Data Structures\n",
    "# Lab sheet 1\n",
    "\n",
    "This first lab gets you to work with Python, the programming language that we will be usingto write algorithms in this module. Python is similar to Java in syntax, although much simpler. In this lab you will write and run your first Python programs.\n",
    "\n",
    "Look at `lab1-prep.ipynb` for examples on how to use Python commands to solve the questions.\n",
    "\n",
    "**Marks (max 5):** Questions 1-2: 1 mark | Questions 3-6: 1 mark each"
   ]
  },
  {
   "cell_type": "markdown",
   "metadata": {},
   "source": [
    "## Question 1\n",
    "\n",
    "We will be coding Python using the Jupyter IDE. You are asked to do the following:\n",
    "\n",
    "0. watch the videos or/and read the slides of Week 0\n",
    "1. if you skipped step 0, go back to step 0\n",
    "2. start Jupyter Notebook (on Jupyter Hub, your machine, or ITL) or Google Collab\n",
    "3. open `lab1-prep.ipynb` in Jupyter, read, understand and run each of its different functions"
   ]
  },
  {
   "cell_type": "markdown",
   "metadata": {},
   "source": [
    "## Question 2\n",
    "\n",
    "Write a Python function:\n",
    "```\n",
    "def check_equal(x, y, z)\n",
    "```\n",
    "which checks the values of the inputs x, y, z to see if any are equal and prints whichever one of the following applies:\n",
    "\n",
    "1. \"All three inputs are equal\"\n",
    "2. \"Only x and y are equal\"\n",
    "3. \"Only y and z are equal\"\n",
    "4. \"Only x and z are equal\"\n",
    "5. \"They are all different\"\n",
    " \n",
    "The function **also returns** the corresponding number in each case (e.g. if all equal return 1, if only x and y are equal return 2, and so on). For example, running `check_equal(42,1,42)` in Jupyter we would get:\n",
    "```\n",
    "Only x and z are equal\n",
    "4\n",
    "```\n",
    "Note : you will need to use the if-elif-else commands, and print."
   ]
  },
  {
   "cell_type": "code",
   "execution_count": 6,
   "metadata": {},
   "outputs": [
    {
     "data": {
      "text/plain": [
       "[False, False, True, True]"
      ]
     },
     "execution_count": 6,
     "metadata": {},
     "output_type": "execute_result"
    }
   ],
   "source": [
    "def magic(A, B, C):\n",
    "    n = len(A)\n",
    "    res = [False] * n \n",
    "    for i in range(n):\n",
    "        if A[i] * A[i] == B[i] * B[i] + C[i] * C[i]:\n",
    "            res[i] = True\n",
    "        else:\n",
    "            res[i] = False\n",
    "    return res\n",
    "\n",
    "magic([9,1,5,5],[5,2,3,0],[2,3,4,5])"
   ]
  },
  {
   "cell_type": "markdown",
   "metadata": {},
   "source": [
    "## Question 3\n",
    "\n",
    "Write a Python function:\n",
    "```\n",
    "def check_equal2()\n",
    "```\n",
    "that is a modified version of `check_equal` which sets the three variables x, y, z to values typed in by the user when the code is run, and prints and returns as `check_equal`.\n",
    "\n",
    "Note : this can be done using the built-in `input` function. You can assume that the inputs are integers."
   ]
  },
  {
   "cell_type": "code",
   "execution_count": 9,
   "metadata": {},
   "outputs": [
    {
     "name": "stdout",
     "output_type": "stream",
     "text": [
      "Value x is 1\n",
      "Value y is 2\n",
      "Value z is 3\n",
      "They are all different\n",
      "5\n"
     ]
    }
   ],
   "source": [
    "def check_equal2():\n",
    "    # you need to fill this in\n",
    "    x = input(\"Please input x: \")\n",
    "    y = input(\"Please input y: \")\n",
    "    z = input(\"Please input z: \")\n",
    "    print(\"Value x is\" + \" \" + x)\n",
    "    print(\"Value y is\" + \" \" + y)\n",
    "    print(\"Value z is\" + \" \" + z)\n",
    "    \n",
    "    if x == y == z:\n",
    "        print(\"All three inputs are equal\")\n",
    "        return 1\n",
    "    elif x == y:\n",
    "        print(\"Only x and y are equal\")\n",
    "        return 2\n",
    "    elif y == z:\n",
    "        print(\"Only y and z are equal\")\n",
    "        return 3\n",
    "    elif x == z:\n",
    "        print(\"Only x and z are equal\")\n",
    "        return 4\n",
    "    else:\n",
    "        print(\"They are all different\")\n",
    "        return 5\n",
    "    \n",
    "    \n",
    "print(check_equal2())\n",
    "# here are some possible x,y,z to test with:\n",
    "# (42,1,42),(1,1,-5),(5,4,-1),(5,5,5),(0,0,1),(-9,9,9),(9,8,90)"
   ]
  },
  {
   "cell_type": "markdown",
   "metadata": {},
   "source": [
    "## Question 4\n",
    "\n",
    "Write a Python function:\n",
    "```\n",
    "def check_equal_sums(x, y, z)\n",
    "```\n",
    "that is a modified version of `check_equal` which takes three arrays as its arguments and tests whether the sums of the contents of each of the arrays are equal.\n",
    "\n",
    "For example, if the function takes [1,2,3], [10,20,30,40] and [65,32,3] as its three arguments, in that order, it should print \"Only y and z have equal sums\" and return 3.\n",
    "\n",
    "Note : you can use a helper function that takes an array of integers and returns the result of adding them together. For example, with argument [65,32,3] the helper function would return 100.\n",
    "\n",
    "You should **not use** the built-in `sum` function."
   ]
  },
  {
   "cell_type": "code",
   "execution_count": 12,
   "metadata": {},
   "outputs": [
    {
     "name": "stdout",
     "output_type": "stream",
     "text": [
      "[1, 2, 3] [10, 20, 30, 40] [65, 32, 3]\n",
      "Only y and z are equal\n",
      "3\n",
      "[10, 20, 30, 40] [10, 20, 30, 40] [65, 32, 3]\n",
      "All three inputs are equal\n",
      "1\n",
      "[1] [1, 2] [1, 2, 3]\n",
      "They are all different\n",
      "5\n",
      "[] [10, 20, 30, 40] []\n",
      "Only x and z are equal\n",
      "4\n",
      "[10, 20, 30, 40] [1, -2] [65, 32, 3]\n",
      "Only x and z are equal\n",
      "4\n",
      "[-1, -1, -1, 2] [1, -2, 0] [65, 32, 3]\n",
      "Only x and y are equal\n",
      "2\n"
     ]
    }
   ],
   "source": [
    "def check_equal_sums(x,y,z):\n",
    "    # you need to fill this in\n",
    "    x = helperSum(x)\n",
    "    y = helperSum(y)\n",
    "    z = helperSum(z)\n",
    "    \n",
    "    if x == y == z:\n",
    "        print(\"All three inputs are equal\")\n",
    "        return 1\n",
    "    elif x == y:\n",
    "        print(\"Only x and y are equal\")\n",
    "        return 2\n",
    "    elif y == z:\n",
    "        print(\"Only y and z are equal\")\n",
    "        return 3\n",
    "    elif x == z:\n",
    "        print(\"Only x and z are equal\")\n",
    "        return 4\n",
    "    else:\n",
    "        print(\"They are all different\")\n",
    "        return 5\n",
    "    \n",
    "def helperSum(a):\n",
    "    total = 0\n",
    "    for number in a:\n",
    "        total += number\n",
    "    return total\n",
    "\n",
    "# below are some tests. NOTE: passing all the tests does NOT necassarily \n",
    "# mean that your code is correct (there could be other tests that fail)\n",
    "#\n",
    "tests = [([1,2,3],[10,20,30,40],[65,32,3]),([10,20,30,40],[10,20,30,40],[65,32,3]),([1],[1,2],[1,2,3]),\n",
    "         ([],[10,20,30,40],[]),([10,20,30,40],[1,-2],[65,32,3]),([-1,-1,-1,2],[1,-2,0],[65,32,3])]\n",
    "for i,u,k in tests:\n",
    "    print(i,u,k)\n",
    "    print(check_equal_sums(i,u,k))"
   ]
  },
  {
   "cell_type": "markdown",
   "metadata": {},
   "source": [
    "## Question 5\n",
    "\n",
    "Write a Python function:\n",
    "```\n",
    "def compare_lengths(x, y, z)\n",
    "```\n",
    "which takes as arguments three arrays and checks their lengths and returns them as a triple in order of length.\n",
    "\n",
    "For example, if the function takes [1,2,3], [10,20,30,40] and [65,32,7] as input, it should return either `([1,2,3], [65,32,7], [10,20,30,40])` or `([65,32,7], [1,2,3], [10,20,30,40])`.\n",
    "\n",
    "Note: you can use the built-in `len` function which returns the length of an array, and also use Python tuples."
   ]
  },
  {
   "cell_type": "code",
   "execution_count": 5,
   "metadata": {},
   "outputs": [
    {
     "name": "stdout",
     "output_type": "stream",
     "text": [
      "([65, 32, 3], [10, 20, 30, 40], [1, 2, 3, 4, 5])\n",
      "([65, 32, 3], [10, 20, 30, 40], [0, 10, 20, 30, 40])\n",
      "([1], [1, 2], [1, 2, 3])\n",
      "([], [], [10, 20, 30, 40])\n",
      "([1, -2], [65, 32, 3], [10, 20, 30, 40])\n",
      "([], [65, 32, 3], [-1, -1, -1, 2])\n"
     ]
    }
   ],
   "source": [
    "def compare_lengths(x,y,z):\n",
    "    # you need to fill this in\n",
    "    lenx = len(x)\n",
    "    leny = len(y)\n",
    "    lenz = len(z)\n",
    "    \n",
    "    if(lenx > leny) & (lenx > lenz):\n",
    "        if leny > lenz:\n",
    "            return (z,y,x)\n",
    "        else:\n",
    "            return (y,z,x)\n",
    "    elif(leny > lenx) & (leny > lenz):\n",
    "        if lenx > lenz:\n",
    "            return (z, x, y)\n",
    "        else:\n",
    "            return (x, z, y)\n",
    "    elif(lenz > lenx) & (lenz > leny):\n",
    "        if lenx > leny:\n",
    "            return (y, x, z)\n",
    "        else:\n",
    "            return (x, y, z)\n",
    "    \n",
    "    \n",
    "\n",
    "# below are some tests. NOTE: passing all the tests does NOT necassarily \n",
    "# mean that your code is correct (there could be other tests that fail)\n",
    "#\n",
    "tests = [([1,2,3,4,5],[10,20,30,40],[65,32,3]),([0,10,20,30,40],[10,20,30,40],[65,32,3]),([1],[1,2],[1,2,3]),\n",
    "         ([],[10,20,30,40],[]),([10,20,30,40],[1,-2],[65,32,3]),([-1,-1,-1,2],[],[65,32,3])]\n",
    "for x,y,z in tests:\n",
    "    print(compare_lengths(x,y,z))"
   ]
  },
  {
   "cell_type": "markdown",
   "metadata": {},
   "source": [
    "## Question 6\n",
    "\n",
    "In Python a variable can be set to refer to a function, which also means a function can be passed as an argument to another function. Write a Python function:\n",
    "```\n",
    "def check_equal_fun(f, x, y, z)\n",
    "```\n",
    "that is a modified version of `check_equal` which takes four arguments, one being a function and the rest being three values. The function should print whichever one of the following applies:\n",
    "\n",
    "1. \"Applying f to all three values gives the same result\"\n",
    "2. \"Only applying f to x and y gives the same result\"\n",
    "3. \"Only applying f to y and z gives the same result\"\n",
    "4. \"Only applying f to x and z gives the same result\"\n",
    "5. \"Applying f to x,y,z gives all different results\"\n",
    "\n",
    "and return the corresponding number. Observe that `check_equal_fun` should work like `check_equal_sums` if the helper function in Question 4 is given as first argument.\n",
    "\n",
    "Another example is the following. Let `fst` be the function that returns the first element of an array (if there is one):\n",
    "```\n",
    "def fst(A):\n",
    "    return A[0]\n",
    "```\n",
    "Then, e.g. `check_equal_fun(fst,[1,2,3],[2,1,3],[3,2,1])` should print \"Applying f to x,y,z gives all different results\" and return 5."
   ]
  },
  {
   "cell_type": "code",
   "execution_count": 6,
   "metadata": {},
   "outputs": [
    {
     "name": "stdout",
     "output_type": "stream",
     "text": [
      "Only applying f to x and y gives the same result\n"
     ]
    },
    {
     "data": {
      "text/plain": [
       "2"
      ]
     },
     "execution_count": 6,
     "metadata": {},
     "output_type": "execute_result"
    }
   ],
   "source": [
    "# write your answer here\n",
    "# ...\n",
    "# and then TEST it using tests of your own!\n",
    "def check_equal_fun(f,x,y,z):\n",
    "    \n",
    "\n",
    "    if(f(x) == f(y) and f(y) == f(z)):\n",
    "       print(\"Applying f to all three values gives the same result\")\n",
    "       return(1)\n",
    "    elif(f(x) == f(y)):\n",
    "       print(\"Only applying f to x and y gives the same result\")\n",
    "       return(2)\n",
    "    elif(f(y) == f(z)):\n",
    "       print(\"Only applying f to y and z gives the same result\")\n",
    "       return(3)\n",
    "    elif(f(x) == f(z)):\n",
    "       print(\"Only applying f to x and z gives the same result\")\n",
    "       return(4)\n",
    "    else:\n",
    "       print(\"Applying f to x,y,z gives all different results\")\n",
    "       return(5)\n",
    "\n",
    "def fst(A):\n",
    "       return A[0]\n",
    "\n",
    "check_equal_fun(fst,[1,2,3],[1,2,3],[3,2,1])"
   ]
  }
 ],
 "metadata": {
  "interpreter": {
   "hash": "82ed002fa2d4956f5c6aec99bcefe0f73a9f79882f3c9e2319b14958a5896ac5"
  },
  "kernelspec": {
   "display_name": "Python 3.9.5 64-bit",
   "language": "python",
   "name": "python3"
  },
  "language_info": {
   "codemirror_mode": {
    "name": "ipython",
    "version": 3
   },
   "file_extension": ".py",
   "mimetype": "text/x-python",
   "name": "python",
   "nbconvert_exporter": "python",
   "pygments_lexer": "ipython3",
   "version": "3.9.5"
  }
 },
 "nbformat": 4,
 "nbformat_minor": 2
}
